{
 "cells": [
  {
   "cell_type": "markdown",
   "id": "e8089962-ff72-4ab7-b242-787aef7397cd",
   "metadata": {
    "tags": []
   },
   "source": [
    "# Minibatch training, training our first actual model"
   ]
  },
  {
   "cell_type": "markdown",
   "id": "a49b2583-dff1-42ed-be47-e97d026cbf51",
   "metadata": {
    "tags": []
   },
   "source": [
    "## Setup"
   ]
  },
  {
   "cell_type": "code",
   "execution_count": 1,
   "id": "140ee7f7-8d9f-4fcb-9275-df040cb32549",
   "metadata": {},
   "outputs": [],
   "source": [
    "import pickle,gzip,math,os,time,shutil,torch,matplotlib as mpl,numpy as np,matplotlib.pyplot as plt\n",
    "from pathlib import Path\n",
    "from torch import tensor,nn\n",
    "import torch.nn.functional as F"
   ]
  },
  {
   "cell_type": "code",
   "execution_count": 2,
   "id": "17cdb774-a63c-4620-b219-982f9db81f41",
   "metadata": {},
   "outputs": [],
   "source": [
    "from fastcore.test import test_close\n",
    "\n",
    "torch.set_printoptions(precision=2, linewidth=140, sci_mode=False)\n",
    "torch.manual_seed(1)\n",
    "mpl.rcParams['image.cmap'] = 'gray'\n",
    "\n",
    "path_data = Path('data')\n",
    "path_gz = path_data/'mnist.pkl.gz'\n",
    "with gzip.open(path_gz, 'rb') as f: ((x_train, y_train), (x_valid, y_valid), _) = pickle.load(f, encoding='latin-1')\n",
    "x_train, y_train, x_valid, y_valid = map(tensor, [x_train, y_train, x_valid, y_valid])\n",
    "     \n"
   ]
  },
  {
   "cell_type": "markdown",
   "id": "dba54a35-fb4a-4327-b4b8-2a658b4c52d8",
   "metadata": {
    "tags": []
   },
   "source": [
    "## Data"
   ]
  },
  {
   "cell_type": "code",
   "execution_count": 3,
   "id": "ae937ed5-f936-48dd-8139-a82beb70e242",
   "metadata": {},
   "outputs": [
    {
     "data": {
      "text/plain": [
       "(50000, 784, tensor(10), 50)"
      ]
     },
     "execution_count": 3,
     "metadata": {},
     "output_type": "execute_result"
    }
   ],
   "source": [
    "n, m = x_train.shape\n",
    "c = y_train.max()+1\n",
    "nh = 50 #This is the numenr of hidden layers\n",
    "n, m, c, nh"
   ]
  },
  {
   "cell_type": "code",
   "execution_count": 4,
   "id": "7f72d9fe-20e3-4f6f-906d-183c9f039bd4",
   "metadata": {},
   "outputs": [],
   "source": [
    "class Model(nn.Module):\n",
    "    def __init__(self, n_in, nh, n_out):\n",
    "        super().__init__()\n",
    "        self.layers =[nn.Linear(n_in,nh), nn.ReLU(), nn.Linear(nh,n_out)]\n",
    "        \n",
    "    def __call__(self, x):\n",
    "        for l in self.layers: x = l(x)\n",
    "        return x\n",
    "\n"
   ]
  },
  {
   "cell_type": "code",
   "execution_count": 5,
   "id": "2d5be9c3-5eaa-4c5a-a0ce-121d1f48e0d0",
   "metadata": {},
   "outputs": [
    {
     "data": {
      "text/plain": [
       "torch.Size([50000, 10])"
      ]
     },
     "execution_count": 5,
     "metadata": {},
     "output_type": "execute_result"
    }
   ],
   "source": [
    "model = Model(m, nh, 10)\n",
    "pred = model(x_train)\n",
    "pred.shape"
   ]
  },
  {
   "cell_type": "markdown",
   "id": "c44b6084-77e2-4e10-a25e-36cb678774bd",
   "metadata": {
    "tags": []
   },
   "source": [
    "# Cross entropy loss"
   ]
  },
  {
   "cell_type": "markdown",
   "id": "c91d7ec9-25d4-48da-801e-c4c4e14c903b",
   "metadata": {},
   "source": [
    "Here we are upgrading the loss function to cross entropy. So for this we use the softmax function: For this we take the exponential of the predictions and divide by the sum of all the exponentials. This give us a number between 0 and 1, to ease data analysis. The exponential also exaggerates differences between the numbers, to give more clease predictions. "
   ]
  },
  {
   "cell_type": "markdown",
   "id": "4d73548f-b310-4044-98ac-e0cf65bde8cb",
   "metadata": {},
   "source": [
    "First, we will need to compute the softmax of our activations. This is defined by:\n",
    "\n",
    "$$\\hbox{softmax(x)}_{i} = \\frac{e^{x_{i}}}{e^{x_{0}} + e^{x_{1}} + \\cdots + e^{x_{n-1}}}$$\n",
    "\n",
    "or more concisely:\n",
    "\n",
    "$$\\hbox{softmax(x)}_{i} = \\frac{e^{x_{i}}}{\\sum\\limits_{0 \\leq j \\lt n} e^{x_{j}}}$$ \n",
    "\n",
    "In practice, we will need the log of the softmax when we calculate the loss."
   ]
  },
  {
   "cell_type": "code",
   "execution_count": 6,
   "id": "3553f7dc-133a-477a-b24b-c16477fa3151",
   "metadata": {},
   "outputs": [],
   "source": [
    "# Here we use the log of softmax\n",
    "\n",
    "def log_softmax(x): return (x.exp()/(x.exp().sum(-1, keepdim=True))).log()"
   ]
  },
  {
   "cell_type": "code",
   "execution_count": 7,
   "id": "ec7e2781-93fe-44eb-aedd-f367dba943dd",
   "metadata": {},
   "outputs": [
    {
     "data": {
      "text/plain": [
       "tensor([[-2.37, -2.49, -2.36,  ..., -2.31, -2.28, -2.22],\n",
       "        [-2.37, -2.44, -2.44,  ..., -2.27, -2.26, -2.16],\n",
       "        [-2.48, -2.33, -2.28,  ..., -2.30, -2.30, -2.27],\n",
       "        ...,\n",
       "        [-2.33, -2.52, -2.34,  ..., -2.31, -2.21, -2.16],\n",
       "        [-2.38, -2.38, -2.33,  ..., -2.29, -2.26, -2.17],\n",
       "        [-2.33, -2.55, -2.36,  ..., -2.29, -2.27, -2.16]], grad_fn=<LogBackward0>)"
      ]
     },
     "execution_count": 7,
     "metadata": {},
     "output_type": "execute_result"
    }
   ],
   "source": [
    "log_softmax(pred)"
   ]
  },
  {
   "cell_type": "code",
   "execution_count": 8,
   "id": "e2ccc49c-06fd-41e7-860a-bf31c37504a8",
   "metadata": {},
   "outputs": [],
   "source": [
    "# Mathematically the following is equivalent but simplified\n",
    "\n",
    "def log_softmax(x): return x - (x.exp().sum(-1, keepdim=True)).log()"
   ]
  },
  {
   "cell_type": "code",
   "execution_count": 9,
   "id": "a7bcbd3d-9ed1-4138-861a-3a10f30e3ec7",
   "metadata": {},
   "outputs": [
    {
     "data": {
      "text/plain": [
       "tensor([[-2.37, -2.49, -2.36,  ..., -2.31, -2.28, -2.22],\n",
       "        [-2.37, -2.44, -2.44,  ..., -2.27, -2.26, -2.16],\n",
       "        [-2.48, -2.33, -2.28,  ..., -2.30, -2.30, -2.27],\n",
       "        ...,\n",
       "        [-2.33, -2.52, -2.34,  ..., -2.31, -2.21, -2.16],\n",
       "        [-2.38, -2.38, -2.33,  ..., -2.29, -2.26, -2.17],\n",
       "        [-2.33, -2.55, -2.36,  ..., -2.29, -2.27, -2.16]], grad_fn=<SubBackward0>)"
      ]
     },
     "execution_count": 9,
     "metadata": {},
     "output_type": "execute_result"
    }
   ],
   "source": [
    "log_softmax(pred)"
   ]
  },
  {
   "cell_type": "markdown",
   "id": "410b5dbf-a62c-4373-b242-4bb110c029b8",
   "metadata": {},
   "source": [
    "Now the x could give us really large numbers, with their derivates. With the limits of floating point accuracy on computers, this can lead to disastrous computational inaccuracy. So we use the LogSumExp trick to reduce the numbers . It is mathematically derived as follows. We subtract the largest value of x from all of them (we call this a), giving us smaller numbers. Then we multiply with with e**a to give the same number"
   ]
  },
  {
   "cell_type": "markdown",
   "id": "c27eccfb-cbc5-4698-998d-4ef212ddf849",
   "metadata": {},
   "source": [
    "Then, there is a way to compute the log of the sum of exponentials in a more stable way, called the [LogSumExp trick](https://en.wikipedia.org/wiki/LogSumExp). The idea is to use the following formula:\n",
    "\n",
    "$$\\log \\left ( \\sum_{j=1}^{n} e^{x_{j}} \\right ) = \\log \\left ( e^{a} \\sum_{j=1}^{n} e^{x_{j}-a} \\right ) = a + \\log \\left ( \\sum_{j=1}^{n} e^{x_{j}-a} \\right )$$\n",
    "\n",
    "where a is the maximum of the $x_{j}$."
   ]
  },
  {
   "cell_type": "code",
   "execution_count": 10,
   "id": "fd07079e-3177-4422-8f66-f2c6913ac531",
   "metadata": {},
   "outputs": [],
   "source": [
    "def logsumexp(x): \n",
    "    m = x.max(-1)[0]\n",
    "    return m + (x - m[:,None]).exp().sum(-1).log()\n",
    "    "
   ]
  },
  {
   "cell_type": "code",
   "execution_count": 11,
   "id": "94978cac-07f8-4d82-9893-e53fe19d0993",
   "metadata": {},
   "outputs": [],
   "source": [
    "# Our rewritten function\n",
    "def log_softmax(x): return x - x.logsumexp(-1,keepdim=True)"
   ]
  },
  {
   "cell_type": "code",
   "execution_count": 12,
   "id": "d933423a-869a-472d-87be-92782df1aa3e",
   "metadata": {},
   "outputs": [
    {
     "data": {
      "text/plain": [
       "tensor([[-2.37, -2.49, -2.36,  ..., -2.31, -2.28, -2.22],\n",
       "        [-2.37, -2.44, -2.44,  ..., -2.27, -2.26, -2.16],\n",
       "        [-2.48, -2.33, -2.28,  ..., -2.30, -2.30, -2.27],\n",
       "        ...,\n",
       "        [-2.33, -2.52, -2.34,  ..., -2.31, -2.21, -2.16],\n",
       "        [-2.38, -2.38, -2.33,  ..., -2.29, -2.26, -2.17],\n",
       "        [-2.33, -2.55, -2.36,  ..., -2.29, -2.27, -2.16]], grad_fn=<SubBackward0>)"
      ]
     },
     "execution_count": 12,
     "metadata": {},
     "output_type": "execute_result"
    }
   ],
   "source": [
    "# Pytorch has already implemented this function, which we can call as follows and test it against our function, here we call it as a method of the tensor \"pred\"\n",
    "\n",
    "test_close(logsumexp(pred), pred.logsumexp(-1))\n",
    "sm_pred = log_softmax(pred)\n",
    "sm_pred"
   ]
  },
  {
   "cell_type": "markdown",
   "id": "6a6565d9-1812-44ab-91dc-bccce35c152f",
   "metadata": {},
   "source": [
    "The cross entropy loss for some target $x$ and some prediction $p(x)$ is given by:\n",
    "\n",
    "$$ -\\sum x\\, \\log p(x) $$\n",
    "\n",
    "But since our $x$s are 1-hot encoded (actually, they're just the integer indices), this can be rewritten as $-\\log(p_{i})$ where i is the index of the desired target.\n",
    "\n",
    "This can be done using numpy-style [integer array indexing](https://docs.scipy.org/doc/numpy-1.13.0/reference/arrays.indexing.html#integer-array-indexing). Note that PyTorch supports all the tricks in the advanced indexing methods discussed in that link."
   ]
  },
  {
   "cell_type": "code",
   "execution_count": 13,
   "id": "067eacd4-de4c-4119-8653-ff06505410b3",
   "metadata": {},
   "outputs": [
    {
     "data": {
      "text/plain": [
       "tensor([5, 0, 4])"
      ]
     },
     "execution_count": 13,
     "metadata": {},
     "output_type": "execute_result"
    }
   ],
   "source": [
    "# Now we look at the first three actual targets\n",
    "y_train[:3]"
   ]
  },
  {
   "cell_type": "code",
   "execution_count": 14,
   "id": "1ca75bf9-2289-4da5-a98c-10a5e6094a61",
   "metadata": {},
   "outputs": [
    {
     "data": {
      "text/plain": [
       "(tensor(-2.20, grad_fn=<SelectBackward0>),\n",
       " tensor(-2.37, grad_fn=<SelectBackward0>),\n",
       " tensor(-2.36, grad_fn=<SelectBackward0>))"
      ]
     },
     "execution_count": 14,
     "metadata": {},
     "output_type": "execute_result"
    }
   ],
   "source": [
    "# To look these up in our predictions\n",
    "sm_pred[0,5], sm_pred[1,0], sm_pred[2, 4]"
   ]
  },
  {
   "cell_type": "code",
   "execution_count": 15,
   "id": "6f60df0b-b587-4bc3-a675-8911db176236",
   "metadata": {},
   "outputs": [
    {
     "data": {
      "text/plain": [
       "tensor([-2.20, -2.37, -2.36], grad_fn=<IndexBackward0>)"
      ]
     },
     "execution_count": 15,
     "metadata": {},
     "output_type": "execute_result"
    }
   ],
   "source": [
    "# An easier way to do this\n",
    "sm_pred[[0,1,2], y_train[:3]]"
   ]
  },
  {
   "cell_type": "code",
   "execution_count": 16,
   "id": "6ffc66eb-470a-48c8-8986-0d6e7bfca859",
   "metadata": {},
   "outputs": [],
   "source": [
    "# Implementing the function to calculate \"negative log likelihood loss\", Pytorch does this too\n",
    "\n",
    "def nll(input, target): return -input[range(target.shape[0]), target].mean()"
   ]
  },
  {
   "cell_type": "code",
   "execution_count": 17,
   "id": "600e4dd1-ce08-46ec-b048-d113dc0b5f2e",
   "metadata": {},
   "outputs": [
    {
     "data": {
      "text/plain": [
       "tensor(2.30, grad_fn=<NegBackward0>)"
      ]
     },
     "execution_count": 17,
     "metadata": {},
     "output_type": "execute_result"
    }
   ],
   "source": [
    "loss = nll(sm_pred, y_train)\n",
    "loss"
   ]
  },
  {
   "cell_type": "code",
   "execution_count": 18,
   "id": "2b7a6e84-1792-4086-83ad-586d325e40a0",
   "metadata": {},
   "outputs": [],
   "source": [
    "# Pytorch implementation\n",
    "\n",
    "test_close(F.nll_loss(F.log_softmax(pred, -1), y_train), loss, 1e-3)"
   ]
  },
  {
   "cell_type": "code",
   "execution_count": 19,
   "id": "5eb4ec26-b8d3-49de-8d64-a7f7293fdb54",
   "metadata": {},
   "outputs": [],
   "source": [
    "# In Pytorch the softmax and NLL methods are combined in the crossentropy methods which can be called like this:\n",
    "\n",
    "test_close(F.cross_entropy(pred, y_train), loss, 1e-3)"
   ]
  },
  {
   "cell_type": "markdown",
   "id": "152b3a14-0229-495f-a341-6874e88e4056",
   "metadata": {
    "jp-MarkdownHeadingCollapsed": true,
    "tags": []
   },
   "source": [
    "# Basic training loop "
   ]
  },
  {
   "cell_type": "markdown",
   "id": "365de418-4c65-4066-a2eb-9e45143b99be",
   "metadata": {},
   "source": [
    "Basically the training loop repeats over the following steps:\n",
    "- get the output of the model on a batch of inputs\n",
    "- compare the output to the labels we have and compute a loss\n",
    "- calculate the gradients of the loss with respect to every parameter of the model\n",
    "- update said parameters with those gradients to make them a little bit better"
   ]
  },
  {
   "cell_type": "code",
   "execution_count": 20,
   "id": "f6fb599c-2f4c-433b-91b8-8388a16343e0",
   "metadata": {},
   "outputs": [],
   "source": [
    "loss_func = F.cross_entropy"
   ]
  },
  {
   "cell_type": "code",
   "execution_count": 21,
   "id": "58df47f2-12fc-4f93-b4d6-e11864d489b7",
   "metadata": {},
   "outputs": [
    {
     "data": {
      "text/plain": [
       "(tensor([-0.09, -0.21, -0.08,  0.10, -0.04,  0.08, -0.04, -0.03,  0.01,  0.06], grad_fn=<SelectBackward0>),\n",
       " torch.Size([50, 10]))"
      ]
     },
     "execution_count": 21,
     "metadata": {},
     "output_type": "execute_result"
    }
   ],
   "source": [
    "bs = 50\n",
    "\n",
    "xb = x_train[:bs]\n",
    "preds = model(xb)\n",
    "preds[0], preds.shape"
   ]
  },
  {
   "cell_type": "code",
   "execution_count": 22,
   "id": "46565fdb-34a1-4a15-9684-8fbd6fef14a7",
   "metadata": {},
   "outputs": [
    {
     "data": {
      "text/plain": [
       "tensor([5, 0, 4, 1, 9, 2, 1, 3, 1, 4, 3, 5, 3, 6, 1, 7, 2, 8, 6, 9, 4, 0, 9, 1, 1, 2, 4, 3, 2, 7, 3, 8, 6, 9, 0, 5, 6, 0, 7, 6, 1, 8, 7, 9,\n",
       "        3, 9, 8, 5, 9, 3])"
      ]
     },
     "execution_count": 22,
     "metadata": {},
     "output_type": "execute_result"
    }
   ],
   "source": [
    "yb = y_train[:bs]\n",
    "yb"
   ]
  },
  {
   "cell_type": "code",
   "execution_count": 23,
   "id": "a1e79f7b-d38b-4ac2-a642-34a8ca5d1c70",
   "metadata": {},
   "outputs": [
    {
     "data": {
      "text/plain": [
       "tensor(2.30, grad_fn=<NllLossBackward0>)"
      ]
     },
     "execution_count": 23,
     "metadata": {},
     "output_type": "execute_result"
    }
   ],
   "source": [
    "loss_func(preds, yb)"
   ]
  },
  {
   "cell_type": "code",
   "execution_count": 24,
   "id": "b40156b7-7b17-4b47-a8a8-8ec33b605016",
   "metadata": {},
   "outputs": [
    {
     "data": {
      "text/plain": [
       "tensor([[    -0.09,     -0.21,     -0.08,      0.10,     -0.04,      0.08,     -0.04,     -0.03,      0.01,      0.06],\n",
       "        [    -0.07,     -0.14,     -0.14,     -0.03,     -0.00,      0.13,     -0.04,      0.03,      0.04,      0.14],\n",
       "        [    -0.19,     -0.04,      0.02,      0.21,     -0.06,     -0.00,     -0.08,     -0.01,     -0.00,      0.02],\n",
       "        [    -0.05,     -0.21,     -0.07,      0.08,      0.04,      0.08,     -0.10,     -0.01,      0.09,      0.01],\n",
       "        [    -0.15,     -0.19,     -0.04,      0.06,     -0.05,      0.15,     -0.11,      0.01,      0.08,      0.05],\n",
       "        [    -0.11,     -0.13,     -0.10,      0.00,     -0.05,      0.13,     -0.07,      0.03,      0.07,      0.17],\n",
       "        [    -0.07,     -0.15,     -0.01,      0.10,     -0.05,     -0.03,     -0.08,     -0.02,     -0.00,      0.07],\n",
       "        [    -0.05,     -0.20,     -0.01,      0.10,      0.02,      0.16,     -0.10,     -0.05,      0.05,      0.17],\n",
       "        [    -0.11,     -0.17,     -0.04,      0.06,     -0.03,     -0.04,     -0.07,      0.02,      0.02,     -0.00],\n",
       "        [    -0.17,     -0.02,     -0.12,      0.03,     -0.09,      0.06,     -0.15,      0.05,      0.02,      0.09],\n",
       "        [     0.03,     -0.26,     -0.00,      0.11,     -0.00,      0.13,     -0.00,     -0.06,      0.05,      0.10],\n",
       "        [    -0.06,     -0.07,     -0.05,      0.06,      0.03,     -0.03,     -0.05,      0.03,      0.04,      0.05],\n",
       "        [    -0.01,     -0.21,     -0.02,      0.07,      0.01,      0.09,     -0.01,     -0.03,      0.07,      0.17],\n",
       "        [    -0.11,     -0.16,     -0.02,      0.10,     -0.11,     -0.03,     -0.05,     -0.05,      0.03,      0.15],\n",
       "        [    -0.08,     -0.16,     -0.03,      0.08,     -0.07,     -0.09,     -0.05,      0.03,      0.02,      0.04],\n",
       "        [    -0.10,     -0.12,     -0.09,     -0.04,     -0.01,      0.07,     -0.12,      0.10,      0.03,      0.12],\n",
       "        [    -0.04,     -0.16,     -0.02,     -0.02,     -0.05,     -0.00,     -0.04,     -0.03,     -0.02,      0.05],\n",
       "        [    -0.18,     -0.11,     -0.10,      0.04,     -0.03,      0.11,     -0.18,      0.01,      0.08,      0.05],\n",
       "        [    -0.07,     -0.21,     -0.05,      0.06,      0.00,      0.03,     -0.00,     -0.02,      0.07,      0.02],\n",
       "        [    -0.17,     -0.15,     -0.10,     -0.01,     -0.04,      0.05,     -0.11,      0.08,      0.05,      0.02],\n",
       "        [    -0.10,     -0.11,     -0.09,      0.09,     -0.02,      0.14,     -0.05,     -0.04,      0.11,      0.16],\n",
       "        [    -0.01,     -0.15,     -0.14,     -0.02,      0.05,      0.17,     -0.05,      0.03,      0.01,      0.17],\n",
       "        [    -0.12,     -0.10,     -0.12,      0.09,     -0.03,      0.04,     -0.11,      0.03,      0.07,      0.06],\n",
       "        [    -0.06,     -0.21,     -0.07,      0.08,      0.06,      0.09,     -0.10,     -0.02,      0.10,      0.00],\n",
       "        [    -0.06,     -0.12,     -0.06,      0.04,     -0.02,      0.07,     -0.08,      0.03,      0.08,      0.17],\n",
       "        [    -0.02,     -0.15,     -0.06,      0.04,     -0.01,      0.15,     -0.05,     -0.08,      0.01,      0.14],\n",
       "        [    -0.07,     -0.21,     -0.00,      0.06,      0.00,      0.02,     -0.04,     -0.05,     -0.01,      0.07],\n",
       "        [     0.02,     -0.21,     -0.03,      0.09,      0.04,      0.15,     -0.07,     -0.04,      0.04,      0.11],\n",
       "        [    -0.10,     -0.14,     -0.10,      0.07,     -0.01,      0.08,     -0.11,     -0.02,      0.06,      0.07],\n",
       "        [    -0.13,     -0.08,     -0.05,      0.07,      0.04,      0.00,     -0.05,      0.03,      0.03,      0.07],\n",
       "        [    -0.04,     -0.11,     -0.13,      0.10,      0.09,     -0.03,     -0.04,     -0.05,      0.01,      0.07],\n",
       "        [    -0.09,     -0.14,     -0.08,      0.05,      0.02,      0.07,     -0.15,      0.03,     -0.04,      0.05],\n",
       "        [    -0.02,     -0.16,     -0.11,      0.05,     -0.00,      0.02,     -0.00,     -0.05,      0.08,      0.14],\n",
       "        [    -0.11,     -0.15,     -0.10,      0.02,      0.03,      0.05,     -0.12,      0.07,      0.03,      0.02],\n",
       "        [    -0.07,     -0.17,     -0.08,      0.01,     -0.03,      0.20,     -0.09,     -0.07,      0.03,      0.15],\n",
       "        [    -0.12,     -0.10,     -0.02,      0.02,     -0.02,      0.04,     -0.10,      0.14,      0.06,      0.08],\n",
       "        [    -0.03,     -0.15,     -0.12,      0.07,      0.05,      0.03,     -0.05,     -0.02,      0.06,      0.18],\n",
       "        [    -0.04,     -0.13,     -0.10,      0.00,     -0.04,      0.21,     -0.04,     -0.01,      0.02,      0.21],\n",
       "        [    -0.01,     -0.21,     -0.07,      0.09,      0.08,     -0.03,     -0.07,     -0.04,     -0.02,      0.03],\n",
       "        [    -0.01,     -0.14,     -0.12,      0.03,      0.02,      0.03,     -0.02,     -0.02,      0.00,      0.23],\n",
       "        [    -0.07,     -0.20,     -0.05,      0.11,      0.00,     -0.05,     -0.05,     -0.00,      0.03,     -0.02],\n",
       "        [    -0.15,     -0.17,     -0.03,      0.09,     -0.05,      0.09,     -0.14,     -0.12,     -0.00,      0.08],\n",
       "        [    -0.14,     -0.15,     -0.05,      0.08,     -0.06,      0.02,     -0.08,      0.01,      0.02,     -0.00],\n",
       "        [    -0.09,     -0.23,     -0.08,     -0.00,     -0.02,      0.05,     -0.05,      0.06,      0.08,      0.03],\n",
       "        [     0.00,     -0.26,     -0.03,      0.09,      0.02,      0.01,     -0.03,     -0.01,      0.07,      0.04],\n",
       "        [    -0.16,     -0.20,     -0.04,      0.08,     -0.08,      0.17,     -0.12,     -0.00,      0.08,      0.04],\n",
       "        [    -0.07,     -0.17,     -0.07,      0.07,     -0.02,      0.03,     -0.08,     -0.06,      0.02,      0.11],\n",
       "        [    -0.15,     -0.14,     -0.07,      0.02,     -0.03,      0.12,     -0.11,      0.03,      0.06,      0.02],\n",
       "        [    -0.10,     -0.18,      0.01,      0.15,     -0.09,     -0.02,     -0.04,     -0.03,      0.04,      0.15],\n",
       "        [    -0.01,     -0.23,     -0.03,      0.06,      0.01,      0.15,     -0.06,     -0.02,      0.06,      0.13]],\n",
       "       grad_fn=<AddmmBackward0>)"
      ]
     },
     "execution_count": 24,
     "metadata": {},
     "output_type": "execute_result"
    }
   ],
   "source": [
    "preds"
   ]
  },
  {
   "cell_type": "code",
   "execution_count": 25,
   "id": "29771908-7664-407b-aea7-2fcca8377ce7",
   "metadata": {},
   "outputs": [
    {
     "data": {
      "text/plain": [
       "tensor([3, 9, 3, 8, 5, 9, 3, 9, 3, 9, 5, 3, 9, 9, 3, 9, 9, 5, 8, 7, 9, 5, 3, 8, 9, 5, 9, 5, 5, 9, 3, 5, 9, 7, 5, 7, 9, 9, 3, 9, 3, 5, 3, 8,\n",
       "        3, 5, 9, 5, 9, 5])"
      ]
     },
     "execution_count": 25,
     "metadata": {},
     "output_type": "execute_result"
    }
   ],
   "source": [
    "preds.argmax(dim=1)"
   ]
  },
  {
   "cell_type": "code",
   "execution_count": 26,
   "id": "1fda45c7-ff8e-4459-9b2f-50fdd7ee94d1",
   "metadata": {},
   "outputs": [],
   "source": [
    "def accuracy (out, yb): return (out.argmax(dim=1)==yb).float().mean()"
   ]
  },
  {
   "cell_type": "code",
   "execution_count": 27,
   "id": "3fd9f2ac-a7e6-4fc0-a928-0424a62ad9a4",
   "metadata": {},
   "outputs": [
    {
     "data": {
      "text/plain": [
       "tensor(0.08)"
      ]
     },
     "execution_count": 27,
     "metadata": {},
     "output_type": "execute_result"
    }
   ],
   "source": [
    "accuracy(preds, yb)"
   ]
  },
  {
   "cell_type": "code",
   "execution_count": 28,
   "id": "ed9dd5ed-8ece-4697-b172-2b7496e4a829",
   "metadata": {},
   "outputs": [],
   "source": [
    "lr = 0.5\n",
    "epochs = 3"
   ]
  },
  {
   "cell_type": "code",
   "execution_count": 29,
   "id": "62a6b0e1-ae29-4ee7-a882-e1c37a4891ff",
   "metadata": {},
   "outputs": [],
   "source": [
    "def report(loss, preds, yb): print(f'{loss:.2f}, {accuracy(preds, yb):.2f}')\n"
   ]
  },
  {
   "cell_type": "code",
   "execution_count": 30,
   "id": "07327c40-b582-42e0-a8f2-d083fb759382",
   "metadata": {},
   "outputs": [
    {
     "name": "stdout",
     "output_type": "stream",
     "text": [
      "0.12, 0.98\n",
      "0.12, 0.94\n",
      "0.08, 0.96\n"
     ]
    }
   ],
   "source": [
    "for epoch in range(epochs):\n",
    "    for i in range(0, n, bs):\n",
    "        s = slice(i, min(n, i+bs))\n",
    "        xb,yb = x_train[s], y_train[s]\n",
    "        preds = model(xb)\n",
    "        loss = loss_func(preds, yb)\n",
    "        loss.backward()\n",
    "        with torch.no_grad():\n",
    "            for l in model.layers:\n",
    "                if hasattr(l, 'weight'):\n",
    "                    l.weight -= l.weight.grad * lr\n",
    "                    l.bias -= l.bias.grad * lr\n",
    "                    l.weight.grad.zero_()\n",
    "                    l.bias.grad.zero_()\n",
    "    report(loss, preds, yb)"
   ]
  },
  {
   "cell_type": "markdown",
   "id": "539d7b19-9c59-41ff-b85b-432f6c4dc2d5",
   "metadata": {
    "tags": []
   },
   "source": [
    "# Using paramaters and optimisation"
   ]
  },
  {
   "cell_type": "markdown",
   "id": "b29ff633-0cee-40d0-b6a3-a7b94789644c",
   "metadata": {
    "jp-MarkdownHeadingCollapsed": true,
    "tags": []
   },
   "source": [
    "## Parameters"
   ]
  },
  {
   "cell_type": "code",
   "execution_count": 31,
   "id": "98798a15-02b0-4c2d-ab23-6e3b3d0ca8ca",
   "metadata": {},
   "outputs": [
    {
     "data": {
      "text/plain": [
       "Module(\n",
       "  (foo): Linear(in_features=3, out_features=4, bias=True)\n",
       ")"
      ]
     },
     "execution_count": 31,
     "metadata": {},
     "output_type": "execute_result"
    }
   ],
   "source": [
    "# Demonstration of PyTorch inhertied module functionality\n",
    "\n",
    "m1 = nn.Module()\n",
    "m1.foo = nn.Linear(3,4)\n",
    "m1"
   ]
  },
  {
   "cell_type": "code",
   "execution_count": 32,
   "id": "ac2980b1-9d1c-48b1-a02f-2cf6f6236944",
   "metadata": {},
   "outputs": [
    {
     "data": {
      "text/plain": [
       "[('foo', Linear(in_features=3, out_features=4, bias=True))]"
      ]
     },
     "execution_count": 32,
     "metadata": {},
     "output_type": "execute_result"
    }
   ],
   "source": [
    "# You can list children defined under m1, in this case \"foo\", in other cases all the layers of our neural network\n",
    "\n",
    "list(m1.named_children())"
   ]
  },
  {
   "cell_type": "code",
   "execution_count": 33,
   "id": "c3141eec-006b-46c6-bc8d-de889a4da4c9",
   "metadata": {},
   "outputs": [
    {
     "data": {
      "text/plain": [
       "<generator object Module.named_children at 0x7f9f80292730>"
      ]
     },
     "execution_count": 33,
     "metadata": {},
     "output_type": "execute_result"
    }
   ],
   "source": [
    "#But you have to say \"list\", as it is a kind of iterator, called a generator, that only gives an output if it is used\n",
    "m1.named_children()"
   ]
  },
  {
   "cell_type": "code",
   "execution_count": 34,
   "id": "626e82ac-7afb-4372-9d49-bf7539ea6eae",
   "metadata": {},
   "outputs": [
    {
     "data": {
      "text/plain": [
       "[Parameter containing:\n",
       " tensor([[ 0.57,  0.43, -0.30],\n",
       "         [ 0.13, -0.32, -0.24],\n",
       "         [ 0.51,  0.04,  0.22],\n",
       "         [ 0.13, -0.17, -0.24]], requires_grad=True),\n",
       " Parameter containing:\n",
       " tensor([-0.01, -0.51, -0.39,  0.56], requires_grad=True)]"
      ]
     },
     "execution_count": 34,
     "metadata": {},
     "output_type": "execute_result"
    }
   ],
   "source": [
    "# You can also list the parameters\n",
    "\n",
    "list(m1.parameters())\n"
   ]
  },
  {
   "cell_type": "code",
   "execution_count": 35,
   "id": "6d3d3a09-f2d6-496a-8de0-11517fb634fe",
   "metadata": {},
   "outputs": [],
   "source": [
    "class MLP(nn.Module):\n",
    "    def __init__(self, n_in, nh, n_out):\n",
    "        super().__init__()\n",
    "        self.l1 = nn.Linear(n_in, nh)\n",
    "        self.l2 = nn.Linear(nh, n_out)\n",
    "        self.relu = nn.ReLU()\n",
    "        \n",
    "    def forward(self, x): return self.l2(self.relu(self.l1(x)))"
   ]
  },
  {
   "cell_type": "code",
   "execution_count": 36,
   "id": "95c2ca84-b995-4255-9afc-c9e722a8d9be",
   "metadata": {},
   "outputs": [],
   "source": [
    "model = MLP(m, nh, 10)"
   ]
  },
  {
   "cell_type": "code",
   "execution_count": 37,
   "id": "278710a9-7515-4a76-8f01-b2603c0aea56",
   "metadata": {},
   "outputs": [
    {
     "data": {
      "text/plain": [
       "Linear(in_features=784, out_features=50, bias=True)"
      ]
     },
     "execution_count": 37,
     "metadata": {},
     "output_type": "execute_result"
    }
   ],
   "source": [
    "model.l1"
   ]
  },
  {
   "cell_type": "code",
   "execution_count": 38,
   "id": "5f64e16e-eafc-4f42-b957-33256bf3cde7",
   "metadata": {},
   "outputs": [
    {
     "data": {
      "text/plain": [
       "MLP(\n",
       "  (l1): Linear(in_features=784, out_features=50, bias=True)\n",
       "  (l2): Linear(in_features=50, out_features=10, bias=True)\n",
       "  (relu): ReLU()\n",
       ")"
      ]
     },
     "execution_count": 38,
     "metadata": {},
     "output_type": "execute_result"
    }
   ],
   "source": [
    "model"
   ]
  },
  {
   "cell_type": "code",
   "execution_count": 39,
   "id": "b4b0b135-c9f9-4c87-92cf-afa7d3ce3e18",
   "metadata": {},
   "outputs": [
    {
     "name": "stdout",
     "output_type": "stream",
     "text": [
      "l1: Linear(in_features=784, out_features=50, bias=True)\n",
      "l2: Linear(in_features=50, out_features=10, bias=True)\n",
      "relu: ReLU()\n"
     ]
    }
   ],
   "source": [
    "for name,l in model.named_children(): print(f\"{name}: {l}\")\n"
   ]
  },
  {
   "cell_type": "code",
   "execution_count": 40,
   "id": "3fad69af-a439-4135-8934-83a36c0dacd8",
   "metadata": {},
   "outputs": [
    {
     "name": "stdout",
     "output_type": "stream",
     "text": [
      "torch.Size([50, 784])\n",
      "torch.Size([50])\n",
      "torch.Size([10, 50])\n",
      "torch.Size([10])\n"
     ]
    }
   ],
   "source": [
    "for p in model.parameters(): print(p.shape)"
   ]
  },
  {
   "cell_type": "code",
   "execution_count": 41,
   "id": "13cc1a5f-cf83-4175-a621-b82c59ccb6a5",
   "metadata": {},
   "outputs": [],
   "source": [
    "# Refactoring the basic loop to use this functionality\n",
    "\n",
    "def fit():\n",
    "    for epoch in range(epochs):\n",
    "        for i in range(0, n, bs):\n",
    "            s = slice(i, min(n,i+bs))\n",
    "            xb,yb = x_train[s],y_train[s]\n",
    "            preds = model(xb)\n",
    "            loss = loss_func(preds, yb)\n",
    "            loss.backward()\n",
    "            with torch.no_grad():\n",
    "                for p in model.parameters(): p -= p.grad * lr\n",
    "                model.zero_grad()\n",
    "        report(loss, preds, yb)\n",
    "        \n",
    "# Pytorch uses __set__attr to know what the models parameters are so it can update them with the new weights\n",
    "        "
   ]
  },
  {
   "cell_type": "code",
   "execution_count": 42,
   "id": "1dcc9866-7bd3-4b1d-929b-83fb25e86912",
   "metadata": {},
   "outputs": [
    {
     "name": "stdout",
     "output_type": "stream",
     "text": [
      "0.19, 0.96\n",
      "0.11, 0.96\n",
      "0.04, 1.00\n"
     ]
    }
   ],
   "source": [
    "fit()"
   ]
  },
  {
   "cell_type": "code",
   "execution_count": 43,
   "id": "1728938e-be2a-4982-847a-f44bcc0fbf75",
   "metadata": {},
   "outputs": [],
   "source": [
    "# Now we create our own nn.Module\n",
    "\n",
    "class MyModule: \n",
    "    def __init__(self, n_in, nh, n_out):\n",
    "        self._modules = {}\n",
    "#         Creates a dictionary that keeps track of all the layers in our network\n",
    "        self.l1 = nn.Linear(n_in, nh)\n",
    "        self.l2 = nn.Linear(nh, n_out)\n",
    "        \n",
    "    def __setattr__(self, k , v):        \n",
    "#         k (key)is the name of the attribute, v (value) is right of the =, e.g. \"nn.Linear(n_in, nh)\"\n",
    "#         We don't want to add the dunder methods to this list\n",
    "        if not k.startswith(\"_\"): self._modules[k] = v\n",
    "        super().__setattr__(k, v)    \n",
    "#         As Python itself has the setattr functionality which can be called for the attribute-setting\n",
    "\n",
    "#     Now the function where we called \"model\" in the code and it listed the layers\n",
    "    def __repr__(self): return f'{self._modules}'\n",
    " \n",
    "    # This, then is the method that prints all the parameter sizes of our model\n",
    "    def parameters(self):\n",
    "        for l in self._modules.values(): yield from l.parameters()"
   ]
  },
  {
   "cell_type": "code",
   "execution_count": 44,
   "id": "f59acf03-c2c6-451b-a445-bd8b16275a41",
   "metadata": {},
   "outputs": [],
   "source": [
    "mdl = MyModule(m, nh, 10)"
   ]
  },
  {
   "cell_type": "code",
   "execution_count": 45,
   "id": "46858b90-250c-45df-95a8-e48f654d687c",
   "metadata": {},
   "outputs": [
    {
     "data": {
      "text/plain": [
       "{'l1': Linear(in_features=784, out_features=50, bias=True), 'l2': Linear(in_features=50, out_features=10, bias=True)}"
      ]
     },
     "execution_count": 45,
     "metadata": {},
     "output_type": "execute_result"
    }
   ],
   "source": [
    "mdl"
   ]
  },
  {
   "cell_type": "code",
   "execution_count": 46,
   "id": "096e267c-ceed-4c06-a33b-d58da5d86cb7",
   "metadata": {},
   "outputs": [
    {
     "data": {
      "text/plain": [
       "<bound method MyModule.parameters of {'l1': Linear(in_features=784, out_features=50, bias=True), 'l2': Linear(in_features=50, out_features=10, bias=True)}>"
      ]
     },
     "execution_count": 46,
     "metadata": {},
     "output_type": "execute_result"
    }
   ],
   "source": [
    "mdl.parameters"
   ]
  },
  {
   "cell_type": "code",
   "execution_count": 47,
   "id": "e329a18d-d1e2-472b-91db-66b603220a5e",
   "metadata": {},
   "outputs": [
    {
     "name": "stdout",
     "output_type": "stream",
     "text": [
      "torch.Size([50, 784])\n",
      "torch.Size([50])\n",
      "torch.Size([10, 50])\n",
      "torch.Size([10])\n"
     ]
    }
   ],
   "source": [
    "for p in mdl.parameters(): print(p.shape)"
   ]
  },
  {
   "cell_type": "markdown",
   "id": "52298c03-69e2-4889-9399-0ad2cbe0b0a2",
   "metadata": {
    "tags": []
   },
   "source": [
    "## Registering modules"
   ]
  },
  {
   "cell_type": "code",
   "execution_count": 48,
   "id": "76b668d3-0b1a-41fc-9682-34e4c06e34b8",
   "metadata": {},
   "outputs": [],
   "source": [
    " from functools import reduce"
   ]
  },
  {
   "cell_type": "code",
   "execution_count": 49,
   "id": "0141fb0a-8fce-4814-9cd6-68249353901b",
   "metadata": {},
   "outputs": [],
   "source": [
    "layers = [nn.Linear(m,nh), nn.ReLU(), nn.Linear(nh,10)]"
   ]
  },
  {
   "cell_type": "code",
   "execution_count": 50,
   "id": "0a09b4e6-3fc0-43e7-83b4-7a84705c4e62",
   "metadata": {},
   "outputs": [],
   "source": [
    "class Model(nn.Module):\n",
    "    def __init__(self, layers):\n",
    "        super().__init__()\n",
    "        self.layers = layers\n",
    "        for i, l in enumerate(self.layers):  self.add_module(f'layer_{i}', l)\n",
    "\n",
    "#     Here we create a forward pass using \"reduce\". This function uses input x, then iterates over the\n",
    "#     the iterable \"self.layers\" to perform the layer function. \"val\" stores the intermediate values \n",
    "#     to be passed over to the next iterable \n",
    "    def forward(self, x): return reduce(lambda val,layer: layer(val), self.layers, x)\n",
    "                              \n",
    "                             "
   ]
  },
  {
   "cell_type": "code",
   "execution_count": 51,
   "id": "c88308f1-70df-4d1c-b0b4-896b5393e730",
   "metadata": {},
   "outputs": [
    {
     "data": {
      "text/plain": [
       "Model(\n",
       "  (layer_0): Linear(in_features=784, out_features=50, bias=True)\n",
       "  (layer_1): ReLU()\n",
       "  (layer_2): Linear(in_features=50, out_features=10, bias=True)\n",
       ")"
      ]
     },
     "execution_count": 51,
     "metadata": {},
     "output_type": "execute_result"
    }
   ],
   "source": [
    "model = Model(layers)\n",
    "model"
   ]
  },
  {
   "cell_type": "markdown",
   "id": "3c5f039e-f458-4994-bb97-9919777793c7",
   "metadata": {
    "tags": []
   },
   "source": [
    "## Using ModuleList"
   ]
  },
  {
   "cell_type": "code",
   "execution_count": 52,
   "id": "7417ea28-2c8c-442c-81ba-f3f7dcf1c1a8",
   "metadata": {},
   "outputs": [],
   "source": [
    " # Now Pytorch has the implemented method nn.ModuleList that does this for us\n",
    "class SequentialModel(nn.Module):\n",
    "    def __init__(self, layers):\n",
    "        super().__init__()\n",
    "        self.layers = nn.ModuleList(layers)\n",
    "            \n",
    "    \n",
    "#     Here note the different implementation of the forward method compared to the above\n",
    "    def forward(self, x):\n",
    "        for l in self.layers: x = l(x)\n",
    "        return x"
   ]
  },
  {
   "cell_type": "code",
   "execution_count": 53,
   "id": "08aa4458-db00-416f-a7f3-41674c48d285",
   "metadata": {},
   "outputs": [
    {
     "data": {
      "text/plain": [
       "SequentialModel(\n",
       "  (layers): ModuleList(\n",
       "    (0): Linear(in_features=784, out_features=50, bias=True)\n",
       "    (1): ReLU()\n",
       "    (2): Linear(in_features=50, out_features=10, bias=True)\n",
       "  )\n",
       ")"
      ]
     },
     "execution_count": 53,
     "metadata": {},
     "output_type": "execute_result"
    }
   ],
   "source": [
    "model = SequentialModel(layers)\n",
    "model"
   ]
  },
  {
   "cell_type": "markdown",
   "id": "26c9bd17-044f-4585-a274-1dac71bb8b6a",
   "metadata": {
    "tags": []
   },
   "source": [
    "## Using nn.Sequential"
   ]
  },
  {
   "cell_type": "code",
   "execution_count": 54,
   "id": "424a3cf8-6670-468a-b1ac-5604cb5d6afb",
   "metadata": {},
   "outputs": [],
   "source": [
    "# Now that we've implemented the sequential model, we can use the PyTorch version\n",
    "\n",
    "model = nn.Sequential(nn.Linear(m,nh), nn.ReLU(), nn.Linear(nh,10))"
   ]
  },
  {
   "cell_type": "code",
   "execution_count": 55,
   "id": "88c9ce47-b296-436a-ae38-118f33efe0ba",
   "metadata": {},
   "outputs": [
    {
     "name": "stdout",
     "output_type": "stream",
     "text": [
      "0.16, 0.94\n",
      "0.13, 0.96\n",
      "0.08, 0.96\n"
     ]
    },
    {
     "data": {
      "text/plain": [
       "(tensor(0.03, grad_fn=<NllLossBackward0>), tensor(1.))"
      ]
     },
     "execution_count": 55,
     "metadata": {},
     "output_type": "execute_result"
    }
   ],
   "source": [
    "fit()\n",
    "loss_func(model(xb), yb), accuracy(model(xb), yb)"
   ]
  },
  {
   "cell_type": "markdown",
   "id": "3cfabd11-4bb3-4c7f-be42-015e73bde43e",
   "metadata": {
    "tags": []
   },
   "source": [
    "## Optim"
   ]
  },
  {
   "cell_type": "code",
   "execution_count": 56,
   "id": "fef10e05-d159-4ec6-846c-d307df7ee5d7",
   "metadata": {},
   "outputs": [],
   "source": [
    "class Optimizer():\n",
    "    def __init__(self, params, lr=0.5): self.params, self.lr = list(params), lr\n",
    "    \n",
    "    def step(self):\n",
    "        with torch.no_grad():\n",
    "            for p in self.params: p -= p.grad * self.lr\n",
    "            \n",
    "    def zero_grad(self):\n",
    "        for p in self.params: p.grad.data.zero_()"
   ]
  },
  {
   "cell_type": "code",
   "execution_count": 57,
   "id": "0fa03aa5-78da-4774-bdb4-e1267bb5b081",
   "metadata": {},
   "outputs": [],
   "source": [
    "model = nn.Sequential(nn.Linear(m,nh), nn.ReLU(), nn.Linear(nh, 10))"
   ]
  },
  {
   "cell_type": "code",
   "execution_count": 58,
   "id": "625d281d-a554-423b-b0cd-63ffe2378acf",
   "metadata": {},
   "outputs": [],
   "source": [
    "opt = Optimizer(model.parameters())"
   ]
  },
  {
   "cell_type": "code",
   "execution_count": 59,
   "id": "8396a33b-3851-4b61-bfcd-751246e44957",
   "metadata": {},
   "outputs": [
    {
     "name": "stdout",
     "output_type": "stream",
     "text": [
      "0.18, 0.94\n",
      "0.13, 0.96\n",
      "0.11, 0.94\n"
     ]
    }
   ],
   "source": [
    "for epoch in range(epochs):\n",
    "    for i in range(0, n, bs):\n",
    "        s = slice(i, min(n, i+bs))\n",
    "        xb, yb = x_train[s], y_train[s]\n",
    "        preds = model(xb)\n",
    "        loss = loss_func(preds, yb)\n",
    "        loss.backward()\n",
    "        opt.step()\n",
    "        opt.zero_grad()\n",
    "    report(loss, preds, yb)"
   ]
  },
  {
   "cell_type": "code",
   "execution_count": 60,
   "id": "48e726f2-072b-44b7-87b9-62ec688a191f",
   "metadata": {},
   "outputs": [],
   "source": [
    "# Now that we've implemented it, we can use Pytorch's optimiser, called optim\n",
    "\n",
    "from torch import optim\n"
   ]
  },
  {
   "cell_type": "code",
   "execution_count": 61,
   "id": "5b26e4ce-7f33-4d0f-9587-05e76cf53911",
   "metadata": {},
   "outputs": [],
   "source": [
    "# We use this function to return a model (using our previous architecture), as well as the optimser that it will use\n",
    "\n",
    "def get_model():\n",
    "    model = nn.Sequential(nn.Linear(m,nh), nn.ReLU(), nn.Linear(nh,10))\n",
    "    return model, optim.SGD(model.parameters(), lr=lr)"
   ]
  },
  {
   "cell_type": "code",
   "execution_count": 62,
   "id": "e05d4e78-c439-469d-bc86-4247536a6c28",
   "metadata": {},
   "outputs": [
    {
     "data": {
      "text/plain": [
       "tensor(2.33, grad_fn=<NllLossBackward0>)"
      ]
     },
     "execution_count": 62,
     "metadata": {},
     "output_type": "execute_result"
    }
   ],
   "source": [
    "model, opt = get_model()\n",
    "loss_func(model(xb), yb)\n",
    "\n",
    "# We call this loss function now to check the loss before optimising with our model"
   ]
  },
  {
   "cell_type": "code",
   "execution_count": 63,
   "id": "440e95dd-fb5b-438c-b975-8d44f9452c36",
   "metadata": {},
   "outputs": [
    {
     "name": "stdout",
     "output_type": "stream",
     "text": [
      "0.12, 0.98\n",
      "0.09, 0.98\n",
      "0.07, 0.98\n"
     ]
    }
   ],
   "source": [
    "# THe same loop as above, we are just using Pytorch optim instead of our own implementation\n",
    "\n",
    "for epoch in range(epochs):\n",
    "    for i in range(0, n, bs):\n",
    "        s = slice(i, min(n,i+bs))\n",
    "        xb,yb = x_train[s],y_train[s]\n",
    "        preds = model(xb)\n",
    "        loss = loss_func(preds, yb)\n",
    "        loss.backward()\n",
    "        opt.step()\n",
    "        opt.zero_grad()\n",
    "    report(loss, preds, yb)"
   ]
  },
  {
   "cell_type": "markdown",
   "id": "55725372-6be2-4686-a92b-084b968e78da",
   "metadata": {
    "tags": []
   },
   "source": [
    "# Dataset and dataloader\n"
   ]
  },
  {
   "cell_type": "markdown",
   "id": "a2f0c875-6d36-4f45-814f-390daae6d973",
   "metadata": {
    "tags": []
   },
   "source": [
    "### Dataset\n",
    "\n",
    "It's clunky to iterate through minibatches of x and y values separately:\n",
    "\n",
    "xb = x_train[s]\n",
    "    yb = y_train[s]\n",
    "Instead, let's do these two steps together, by introducing a Dataset class:\n",
    "\n",
    "xb,yb = train_ds[s]"
   ]
  },
  {
   "cell_type": "code",
   "execution_count": 64,
   "id": "3d93de54-e12b-4d5c-90a3-74493140446b",
   "metadata": {},
   "outputs": [],
   "source": [
    "class Dataset():\n",
    "    def __init__(self, x, y): self.x, self.y = x, y\n",
    "    def __len__(self): return len(self.x)\n",
    "    def __getitem__(self, i): return self.x[i], self.y[i]\n",
    "\n",
    "# dunder len method allows us to get the length so we can check it, or use it in functions\n",
    "# dunder getitem lets us pull out slices of the dataset\n",
    "# This whole function puts the x_train and y_train into one dataset that we can the call to more conveniently "
   ]
  },
  {
   "cell_type": "code",
   "execution_count": 65,
   "id": "de208d5c-6338-423f-840a-19d103424a47",
   "metadata": {},
   "outputs": [],
   "source": [
    "train_ds,valid_ds = Dataset(x_train, y_train), Dataset(x_valid, y_valid)\n",
    "assert len(train_ds)==len(x_train)\n",
    "assert len(valid_ds)==len(x_valid)\n",
    "\n",
    "# To check the methods in the function work"
   ]
  },
  {
   "cell_type": "code",
   "execution_count": 66,
   "id": "b7422985-666d-494a-99a9-f62f893b84d9",
   "metadata": {},
   "outputs": [
    {
     "data": {
      "text/plain": [
       "(tensor([[0., 0., 0.,  ..., 0., 0., 0.],\n",
       "         [0., 0., 0.,  ..., 0., 0., 0.],\n",
       "         [0., 0., 0.,  ..., 0., 0., 0.],\n",
       "         [0., 0., 0.,  ..., 0., 0., 0.],\n",
       "         [0., 0., 0.,  ..., 0., 0., 0.]]),\n",
       " tensor([5, 0, 4, 1, 9]))"
      ]
     },
     "execution_count": 66,
     "metadata": {},
     "output_type": "execute_result"
    }
   ],
   "source": [
    "xb,yb = train_ds[0:5]\n",
    "assert xb.shape==(5,28*28)\n",
    "assert yb.shape==(5,)\n",
    "xb,yb\n",
    "\n",
    "# To check that it pulls out the correct slices"
   ]
  },
  {
   "cell_type": "code",
   "execution_count": 67,
   "id": "fe18ae04-55e2-431d-8beb-d50d0fdc56b6",
   "metadata": {},
   "outputs": [],
   "source": [
    "model,opt = get_model()"
   ]
  },
  {
   "cell_type": "code",
   "execution_count": 68,
   "id": "c5dc838a-c0e9-4333-9a23-cd9cb443d14a",
   "metadata": {},
   "outputs": [
    {
     "name": "stdout",
     "output_type": "stream",
     "text": [
      "0.17, 0.96\n",
      "0.11, 0.94\n",
      "0.09, 0.96\n"
     ]
    }
   ],
   "source": [
    "for epoch in range(epochs):\n",
    "    for i in range(0, n, bs):\n",
    "        xb,yb = train_ds[i:min(n,i+bs)]\n",
    "        preds = model(xb)\n",
    "        loss = loss_func(preds, yb)\n",
    "        loss.backward()\n",
    "        opt.step()\n",
    "        opt.zero_grad()\n",
    "    report(loss, preds, yb)\n",
    "    \n",
    "# The dataset getitem method returns the x's and y's of the batch, so we clean up the code a bit this way, and repeat the loop \n",
    "# to check it still works"
   ]
  },
  {
   "cell_type": "markdown",
   "id": "83efc18b-8533-4bee-a1c4-74df9bde6fdf",
   "metadata": {},
   "source": [
    "### Dataloader\n",
    "\n",
    "Previously, our loop iterated over batches (xb, yb) like this:\n",
    "\n",
    "for i in range(0, n, bs):\n",
    "\n",
    "    xb,yb = train_ds[i:min(n,i+bs)]\n",
    "    ...\n",
    "Let's make our loop much cleaner, using a data loader, that will provide the algorithm with batches:\n",
    "\n",
    "\n",
    "for xb,yb in train_dl:\n",
    "    ..."
   ]
  },
  {
   "cell_type": "code",
   "execution_count": 69,
   "id": "1446b81d-64e7-4e02-b417-1faac09844bb",
   "metadata": {},
   "outputs": [],
   "source": [
    "class DataLoader():\n",
    "    def __init__(self, ds, bs): self.ds, self.bs = ds, bs\n",
    "    def __iter__(self):\n",
    "        for i in range(0, len(self.ds), self.bs): yield self.ds[i:i+self.bs]\n",
    "\n",
    "# Iter is a magic function that can get called within a class to yield according to the iterator"
   ]
  },
  {
   "cell_type": "code",
   "execution_count": 70,
   "id": "0230d34b-e0aa-48d2-ad64-525941aabe6d",
   "metadata": {},
   "outputs": [],
   "source": [
    "train_dl = DataLoader(train_ds, bs)\n",
    "valid_dl = DataLoader(valid_ds, bs)"
   ]
  },
  {
   "cell_type": "code",
   "execution_count": 71,
   "id": "d0541e94-d457-4352-8ed1-722afb5767a1",
   "metadata": {},
   "outputs": [
    {
     "data": {
      "text/plain": [
       "torch.Size([50, 784])"
      ]
     },
     "execution_count": 71,
     "metadata": {},
     "output_type": "execute_result"
    }
   ],
   "source": [
    "xb,yb = next(iter(valid_dl))\n",
    "xb.shape\n",
    "\n",
    "# To prove our iterator works, \"next\" grabs a chunk using the iterator"
   ]
  },
  {
   "cell_type": "code",
   "execution_count": 72,
   "id": "b4a361e1-f0fe-412d-b08b-eb9d14101fd7",
   "metadata": {},
   "outputs": [
    {
     "data": {
      "text/plain": [
       "tensor([3, 8, 6, 9, 6, 4, 5, 3, 8, 4, 5, 2, 3, 8, 4, 8, 1, 5, 0, 5, 9, 7, 4, 1, 0, 3, 0, 6, 2, 9, 9, 4, 1, 3, 6, 8, 0, 7, 7, 6, 8, 9, 0, 3,\n",
       "        8, 3, 7, 7, 8, 4])"
      ]
     },
     "execution_count": 72,
     "metadata": {},
     "output_type": "execute_result"
    }
   ],
   "source": [
    "yb"
   ]
  },
  {
   "cell_type": "code",
   "execution_count": 73,
   "id": "2185400f-6b5c-4da6-9c23-f57fd6a5eb70",
   "metadata": {},
   "outputs": [
    {
     "data": {
      "text/plain": [
       "tensor(3)"
      ]
     },
     "execution_count": 73,
     "metadata": {},
     "output_type": "execute_result"
    },
    {
     "data": {
      "image/png": "[encoded data removed]",
      "text/plain": [
       "<Figure size 640x480 with 1 Axes>"
      ]
     },
     "metadata": {},
     "output_type": "display_data"
    }
   ],
   "source": [
    "plt.imshow(xb[0].view(28,28))\n",
    "yb[0]"
   ]
  },
  {
   "cell_type": "code",
   "execution_count": 74,
   "id": "10c3ecad-a5ea-4961-8d3a-7d8a8f0d800e",
   "metadata": {},
   "outputs": [],
   "source": [
    "model,opt = get_model()"
   ]
  },
  {
   "cell_type": "code",
   "execution_count": 75,
   "id": "6ac4afa6-798e-4884-bf2f-7e99f6072ef6",
   "metadata": {},
   "outputs": [],
   "source": [
    "def fit():\n",
    "    for epoch in range(epochs):\n",
    "        for xb,yb in train_dl:\n",
    "            preds = model(xb)\n",
    "            loss = loss_func(preds, yb)\n",
    "            loss.backward()\n",
    "            opt.step()\n",
    "            opt.zero_grad()\n",
    "        report(loss, preds, yb)"
   ]
  },
  {
   "cell_type": "markdown",
   "id": "d63430ae-15c2-4fd7-a058-abbdbeaaeb2c",
   "metadata": {},
   "source": [
    "### Random sampling\n",
    "We want our training set to be in a random order, and that order should differ each iteration. But the validation set shouldn't be randomized."
   ]
  },
  {
   "cell_type": "code",
   "execution_count": 76,
   "id": "79e0f307-29bc-4131-a0b8-5fcbb3f6f29a",
   "metadata": {},
   "outputs": [],
   "source": [
    "import random"
   ]
  },
  {
   "cell_type": "code",
   "execution_count": 77,
   "id": "380fc9a2-7fb6-4406-ba3f-86360cc1e806",
   "metadata": {},
   "outputs": [],
   "source": [
    "class Sampler():\n",
    "    def __init__(self, ds, shuffle=False): self.n, self.shuffle = len(ds), shuffle\n",
    "    def __iter__(self): \n",
    "        res = list(range(self.n))\n",
    "        if self.shuffle: random.shuffle(res)\n",
    "        return (iter(res))"
   ]
  },
  {
   "cell_type": "code",
   "execution_count": 78,
   "id": "42e7890a-bb45-43af-8ce0-c10a3c6a3685",
   "metadata": {},
   "outputs": [],
   "source": [
    "from itertools import islice"
   ]
  },
  {
   "cell_type": "code",
   "execution_count": 79,
   "id": "32d6a68b-5479-431f-b86c-3e0c8adf3ad5",
   "metadata": {},
   "outputs": [],
   "source": [
    "ss = Sampler(train_ds)"
   ]
  },
  {
   "cell_type": "code",
   "execution_count": 80,
   "id": "8ecfe9b2-d7f2-49b7-bd5e-9cb508ebf279",
   "metadata": {},
   "outputs": [
    {
     "name": "stdout",
     "output_type": "stream",
     "text": [
      "0\n",
      "1\n",
      "2\n",
      "3\n",
      "4\n"
     ]
    }
   ],
   "source": [
    "it = iter(ss)\n",
    "for o in range(5): print(next(it))"
   ]
  },
  {
   "cell_type": "code",
   "execution_count": 81,
   "id": "ea0a26de-d49f-4805-a5bd-d5436834f1af",
   "metadata": {},
   "outputs": [
    {
     "data": {
      "text/plain": [
       "[0, 1, 2, 3, 4]"
      ]
     },
     "execution_count": 81,
     "metadata": {},
     "output_type": "execute_result"
    }
   ],
   "source": [
    "list(islice(ss, 5))"
   ]
  },
  {
   "cell_type": "code",
   "execution_count": 82,
   "id": "0c46fcbd-cbe6-4049-be1a-3c724063e699",
   "metadata": {},
   "outputs": [
    {
     "data": {
      "text/plain": [
       "[46342, 41573, 23564, 14258, 26955]"
      ]
     },
     "execution_count": 82,
     "metadata": {},
     "output_type": "execute_result"
    }
   ],
   "source": [
    "ss = Sampler(train_ds, shuffle=True)\n",
    "list(islice(ss, 5))"
   ]
  },
  {
   "cell_type": "code",
   "execution_count": 83,
   "id": "0aca5592-5f37-4d13-915d-e813470fc0c0",
   "metadata": {},
   "outputs": [],
   "source": [
    "import fastcore.all as fc"
   ]
  },
  {
   "cell_type": "code",
   "execution_count": 84,
   "id": "3302ef0b-575a-4ff6-b59c-c0f6ea5afcab",
   "metadata": {},
   "outputs": [],
   "source": [
    "# The BatchSampler does this islice business for us\n",
    "\n",
    "class BatchSampler():\n",
    "    def __init__(self, sampler, bs, drop_last=False): fc.store_attr()\n",
    "    def __iter__(self): yield from fc.chunked(iter(self.sampler), self.bs, drop_last=self.drop_last)      "
   ]
  },
  {
   "cell_type": "code",
   "execution_count": 85,
   "id": "71f7e89a-8d88-483e-8b9f-eb0ccd335024",
   "metadata": {},
   "outputs": [
    {
     "data": {
      "text/plain": [
       "[[11800, 43958, 47311, 43949],\n",
       " [9186, 32359, 47845, 16003],\n",
       " [18055, 26640, 15488, 41254],\n",
       " [677, 17211, 163, 4148],\n",
       " [23300, 28658, 41797, 42465]]"
      ]
     },
     "execution_count": 85,
     "metadata": {},
     "output_type": "execute_result"
    }
   ],
   "source": [
    "#  Here we get the BatchSampler to loop through slices of four at a time\n",
    "\n",
    "batchs = BatchSampler(ss, 4)\n",
    "list(islice(batchs, 5))"
   ]
  },
  {
   "cell_type": "code",
   "execution_count": 86,
   "id": "32fda3dd-7735-4dc1-b4f7-2be5fa793e43",
   "metadata": {},
   "outputs": [
    {
     "data": {
      "text/plain": [
       "[[13933, 30912, 45555, 6955],\n",
       " [32117, 22907, 35338, 32119],\n",
       " [12561, 34654, 43677, 39840],\n",
       " [32557, 29632, 10701, 1764],\n",
       " [38932, 30252, 3499, 48723]]"
      ]
     },
     "execution_count": 86,
     "metadata": {},
     "output_type": "execute_result"
    }
   ],
   "source": [
    "list(islice(batchs, 5))"
   ]
  },
  {
   "cell_type": "code",
   "execution_count": 87,
   "id": "e1e9f747-5fb7-437c-97d2-516f0aa6cb5f",
   "metadata": {},
   "outputs": [],
   "source": [
    "def collate(b):\n",
    "    xs, ys = zip(*b)\n",
    "    return torch.stack(xs), torch.stack(ys)"
   ]
  },
  {
   "cell_type": "code",
   "execution_count": 88,
   "id": "47c1c01e-4c86-4b5e-a8fe-22bd966bc280",
   "metadata": {},
   "outputs": [],
   "source": [
    "class DataLoader():\n",
    "    def __init__(self, ds, batchs, collate_fn=collate): fc.store_attr()\n",
    "    def __iter__(self): \n",
    "        yield from (self.collate_fn(self.ds[i] for i in b) for b in self.batchs)\n",
    "        \n",
    "# Fastcore library has a function store_attr() that stores all the arguments as attributes to the class, e.g ds as self.ds"
   ]
  },
  {
   "cell_type": "code",
   "execution_count": 89,
   "id": "ca929678-9f1e-422b-a858-8e457f6ed7ad",
   "metadata": {},
   "outputs": [],
   "source": [
    "train_samp = BatchSampler(Sampler(train_ds, shuffle=True), bs)\n",
    "valid_samp = BatchSampler(Sampler(valid_ds, shuffle=False), bs)"
   ]
  },
  {
   "cell_type": "code",
   "execution_count": 90,
   "id": "e7cdd53c-f120-4522-9d7f-13c0277923a1",
   "metadata": {},
   "outputs": [],
   "source": [
    "train_dl = DataLoader(train_ds, batchs=train_samp)\n",
    "valid_dl = DataLoader(valid_ds, batchs=valid_samp)"
   ]
  },
  {
   "cell_type": "markdown",
   "id": "ebd65a30-31f0-4a66-9727-df25d29c1cb4",
   "metadata": {},
   "source": [
    "So now DataLoader used to only combine the features and targers into a \"dataset\", \n",
    "then Sampler a list (randomised or not) from which to get the samples for training and validation,\n",
    "then BatchSampler gives us a bs-sized batch from the Sampler,\n",
    "and now DataLoader uses the Sampler and BatchSampler to prepare our dataset for iteration over in the training of our model"
   ]
  },
  {
   "cell_type": "code",
   "execution_count": 91,
   "id": "ef3e38e3-ba0a-41b5-a159-dd91b9e24e48",
   "metadata": {},
   "outputs": [
    {
     "data": {
      "text/plain": [
       "tensor(3)"
      ]
     },
     "execution_count": 91,
     "metadata": {},
     "output_type": "execute_result"
    },
    {
     "data": {
      "image/png": "[encoded data removed]",
      "text/plain": [
       "<Figure size 640x480 with 1 Axes>"
      ]
     },
     "metadata": {},
     "output_type": "display_data"
    }
   ],
   "source": [
    "xb,yb = next(iter(valid_dl))\n",
    "plt.imshow(xb[0].view(28,28))\n",
    "yb[0]\n",
    "\n",
    "# To prove our DataLoader still has uncorrupted info"
   ]
  },
  {
   "cell_type": "code",
   "execution_count": 92,
   "id": "51d2ccba-7776-4e80-87a6-5295e70f56a6",
   "metadata": {},
   "outputs": [
    {
     "data": {
      "text/plain": [
       "(torch.Size([50, 784]), torch.Size([50]))"
      ]
     },
     "execution_count": 92,
     "metadata": {},
     "output_type": "execute_result"
    }
   ],
   "source": [
    "xb.shape,yb.shape   \n",
    "# Tha batches, xb and yb, are the correct sizes"
   ]
  },
  {
   "cell_type": "code",
   "execution_count": 93,
   "id": "53c57725-d760-450e-bc52-a885c2211deb",
   "metadata": {},
   "outputs": [],
   "source": [
    "model,opt = get_model()"
   ]
  },
  {
   "cell_type": "code",
   "execution_count": 94,
   "id": "3284279e-be00-46c1-850f-79bd18acd8e7",
   "metadata": {},
   "outputs": [
    {
     "name": "stdout",
     "output_type": "stream",
     "text": [
      "0.31, 0.90\n",
      "0.04, 0.98\n",
      "0.06, 0.96\n"
     ]
    }
   ],
   "source": [
    "fit()"
   ]
  },
  {
   "cell_type": "markdown",
   "id": "61979ca6-d0a2-4d0c-b07d-3e7920c65aba",
   "metadata": {},
   "source": [
    "## Multiprocessing DataLoader\n",
    "\n",
    "Multiprocessing lets us use the getitem of our DataLoader with several batches in parallel\n",
    "Python does have a multiprocessing library, but it doesn't work very well with tensors, so Pytorch reimplemented it with the following libraries. \n",
    "This is API equivalent"
   ]
  },
  {
   "cell_type": "code",
   "execution_count": 95,
   "id": "6493ff53-9e16-40fd-9174-0ab40879d90f",
   "metadata": {},
   "outputs": [],
   "source": [
    "import torch.multiprocessing as mp\n",
    "from fastcore.basics import store_attr"
   ]
  },
  {
   "cell_type": "code",
   "execution_count": 96,
   "id": "1f76c4e3-eae3-4b98-9347-72bcfef1c660",
   "metadata": {},
   "outputs": [
    {
     "data": {
      "text/plain": [
       "(tensor([[0., 0., 0.,  ..., 0., 0., 0.],\n",
       "         [0., 0., 0.,  ..., 0., 0., 0.],\n",
       "         [0., 0., 0.,  ..., 0., 0., 0.],\n",
       "         [0., 0., 0.,  ..., 0., 0., 0.]]),\n",
       " tensor([1, 1, 1, 0]))"
      ]
     },
     "execution_count": 96,
     "metadata": {},
     "output_type": "execute_result"
    }
   ],
   "source": [
    "# Calling [[...]] on a class is equivalent to using getitemt, eg:\n",
    "# This is important, because we want to use \"map\"\n",
    "train_ds[[3,6,8,1]]"
   ]
  },
  {
   "cell_type": "code",
   "execution_count": 97,
   "id": "8c0a4465-bbfb-430a-a921-a2e44911bc80",
   "metadata": {},
   "outputs": [
    {
     "data": {
      "text/plain": [
       "(tensor([[0., 0., 0.,  ..., 0., 0., 0.],\n",
       "         [0., 0., 0.,  ..., 0., 0., 0.],\n",
       "         [0., 0., 0.,  ..., 0., 0., 0.],\n",
       "         [0., 0., 0.,  ..., 0., 0., 0.]]),\n",
       " tensor([1, 1, 1, 0]))"
      ]
     },
     "execution_count": 97,
     "metadata": {},
     "output_type": "execute_result"
    }
   ],
   "source": [
    "train_ds.__getitem__([3,6,8,1])"
   ]
  },
  {
   "cell_type": "code",
   "execution_count": 98,
   "id": "2a0a09fb-7028-4712-b847-99b5a1582439",
   "metadata": {},
   "outputs": [
    {
     "name": "stdout",
     "output_type": "stream",
     "text": [
      "(tensor([[0., 0., 0.,  ..., 0., 0., 0.],\n",
      "        [0., 0., 0.,  ..., 0., 0., 0.]]), tensor([1, 1]))\n",
      "(tensor([[0., 0., 0.,  ..., 0., 0., 0.],\n",
      "        [0., 0., 0.,  ..., 0., 0., 0.]]), tensor([1, 0]))\n"
     ]
    }
   ],
   "source": [
    "# Map lets us use a function over a list of things, like:\n",
    "\n",
    "for o in map(train_ds.__getitem__, ([3,6], [8,1])): print(o)"
   ]
  },
  {
   "cell_type": "markdown",
   "id": "31660f41-b9f6-4f3c-b797-ac07fb0111e8",
   "metadata": {},
   "source": [
    "So now we redefine our DataLoader to make use of this map function, \n",
    "then we can use the multiprocessing function \"Pool\" to pool these batches.\n",
    "The first iteration will run slower, but once the process is fired up, the whole process will run fasters as everyting is optimised to run in parallel.\n",
    "\n",
    "N_workers specifies how many of these processes will then run in parallel"
   ]
  },
  {
   "cell_type": "code",
   "execution_count": 99,
   "id": "8c70736e-7a53-4378-b93e-ed7fb477bb84",
   "metadata": {},
   "outputs": [],
   "source": [
    "class DataLoader():\n",
    "    def __init__(self, ds, batchs, n_workers=1, collate_fn=collate): fc.store_attr()\n",
    "    def __iter__(self):\n",
    "        with mp.Pool(self.n_workers) as ex: yield from ex.map(self.ds.__getitem__, iter(self.batchs))\n",
    "     \n"
   ]
  },
  {
   "cell_type": "code",
   "execution_count": 100,
   "id": "c6051caf-fb71-4021-aea2-788132746aa4",
   "metadata": {},
   "outputs": [],
   "source": [
    "train_dl = DataLoader(train_ds, batchs=train_samp, n_workers=2)\n",
    "it = iter(train_dl)   "
   ]
  },
  {
   "cell_type": "code",
   "execution_count": 101,
   "id": "4fd04310-297a-4e59-90bd-921cf43490c4",
   "metadata": {},
   "outputs": [
    {
     "data": {
      "text/plain": [
       "(torch.Size([50, 784]), torch.Size([50]))"
      ]
     },
     "execution_count": 101,
     "metadata": {},
     "output_type": "execute_result"
    }
   ],
   "source": [
    "xb,yb = next(it)\n",
    "xb.shape,yb.shape    \n",
    "\n",
    "# This code took very long to excute and I don't know why\n"
   ]
  },
  {
   "cell_type": "markdown",
   "id": "fa73bf0c-5370-47af-8803-54053bca9ffc",
   "metadata": {},
   "source": [
    "## Pytorch Dataloader\n",
    "\n",
    "Pytorch has a lot more code for this process to make it a lot more efficient.\n",
    "\n",
    "Pytorch doesn't use one sampler with random True/False, like we did, but uses two different samplers, \n",
    "Seqential and Random"
   ]
  },
  {
   "cell_type": "code",
   "execution_count": 102,
   "id": "10050630-4f92-486d-a9d3-bf002456bce3",
   "metadata": {},
   "outputs": [],
   "source": [
    "from torch.utils.data import DataLoader, SequentialSampler, RandomSampler, BatchSampler"
   ]
  },
  {
   "cell_type": "code",
   "execution_count": 103,
   "id": "66ecefce-a1a4-40d6-a98f-1c386bbd346a",
   "metadata": {},
   "outputs": [],
   "source": [
    "train_samp = BatchSampler(RandomSampler(train_ds),     bs, drop_last=False)\n",
    "valid_samp = BatchSampler(SequentialSampler(valid_ds), bs, drop_last=False)    "
   ]
  },
  {
   "cell_type": "code",
   "execution_count": 104,
   "id": "1139fc29-407a-4340-9262-c5964624150d",
   "metadata": {},
   "outputs": [],
   "source": [
    "train_dl = DataLoader(train_ds, batch_sampler=train_samp, collate_fn=collate)\n",
    "valid_dl = DataLoader(valid_ds, batch_sampler=valid_samp, collate_fn=collate)"
   ]
  },
  {
   "cell_type": "code",
   "execution_count": 105,
   "id": "e8b3927c-4bf0-4f3f-a216-509a741cb2df",
   "metadata": {},
   "outputs": [
    {
     "name": "stdout",
     "output_type": "stream",
     "text": [
      "0.10, 0.94\n",
      "0.10, 0.96\n",
      "0.27, 0.98\n"
     ]
    },
    {
     "data": {
      "text/plain": [
       "(tensor(0.12, grad_fn=<NllLossBackward0>), tensor(0.96))"
      ]
     },
     "execution_count": 105,
     "metadata": {},
     "output_type": "execute_result"
    }
   ],
   "source": [
    "model,opt = get_model()\n",
    "fit()\n",
    "loss_func(model(xb), yb), accuracy(model(xb), yb)"
   ]
  },
  {
   "cell_type": "markdown",
   "id": "58f8bd8d-953a-4989-93be-771ca1cc0201",
   "metadata": {},
   "source": [
    "This code works just like the code we implemented. Pytorch can also auto-generate the BatchSampler for us, so we don't have to define the samplers first:"
   ]
  },
  {
   "cell_type": "code",
   "execution_count": 106,
   "id": "e11c2f6c-91f7-470f-a548-762990f16f37",
   "metadata": {},
   "outputs": [],
   "source": [
    "train_dl = DataLoader(train_ds, bs, sampler=RandomSampler(train_ds), collate_fn=collate)\n",
    "valid_dl = DataLoader(valid_ds, bs, sampler=SequentialSampler(valid_ds), collate_fn=collate)"
   ]
  },
  {
   "cell_type": "code",
   "execution_count": 107,
   "id": "efe59c8a-4a57-4f49-983c-db62257276f3",
   "metadata": {},
   "outputs": [],
   "source": [
    "# Pytorch can also completely automate the sequential and random samplers, as most models use these, \n",
    "# we can just specify whether we want the data shuffled True/False\n",
    "\n",
    "train_dl = DataLoader(train_ds, bs, shuffle=True, drop_last=True, num_workers=2)\n",
    "valid_dl = DataLoader(valid_ds, bs, shuffle=False, num_workers=2)\n",
    "     \n"
   ]
  },
  {
   "cell_type": "code",
   "execution_count": 108,
   "id": "fa776c75-c147-4249-825b-21af9c3ba806",
   "metadata": {},
   "outputs": [
    {
     "name": "stdout",
     "output_type": "stream",
     "text": [
      "0.21, 0.92\n",
      "0.15, 0.94\n",
      "0.05, 0.98\n"
     ]
    },
    {
     "data": {
      "text/plain": [
       "(tensor(0.13, grad_fn=<NllLossBackward0>), tensor(0.98))"
      ]
     },
     "execution_count": 108,
     "metadata": {},
     "output_type": "execute_result"
    }
   ],
   "source": [
    "model,opt = get_model()\n",
    "fit()\n",
    "\n",
    "loss_func(model(xb), yb), accuracy(model(xb), yb)    "
   ]
  },
  {
   "cell_type": "code",
   "execution_count": 109,
   "id": "6eb94e5f-c15c-400d-8765-ef8d7e5f3c04",
   "metadata": {},
   "outputs": [
    {
     "data": {
      "text/plain": [
       "(tensor([[0., 0., 0.,  ..., 0., 0., 0.],\n",
       "         [0., 0., 0.,  ..., 0., 0., 0.],\n",
       "         [0., 0., 0.,  ..., 0., 0., 0.]]),\n",
       " tensor([9, 1, 3]))"
      ]
     },
     "execution_count": 109,
     "metadata": {},
     "output_type": "execute_result"
    }
   ],
   "source": [
    "# Because our dataset already knows how to sample a batch of indices at once:\n",
    "\n",
    "train_ds[[4,6,7]]"
   ]
  },
  {
   "cell_type": "code",
   "execution_count": 110,
   "id": "8f883eca-2584-47c5-a644-426e4ca7810f",
   "metadata": {},
   "outputs": [],
   "source": [
    "# We can skip the the batch sampler and collate function entirely\n",
    "\n",
    "train_dl = DataLoader(train_ds, sampler=train_samp)\n",
    "valid_dl = DataLoader(valid_ds, sampler=valid_samp)"
   ]
  },
  {
   "cell_type": "code",
   "execution_count": 111,
   "id": "0cb7a579-0b66-4017-886b-063c64b695a1",
   "metadata": {},
   "outputs": [
    {
     "data": {
      "text/plain": [
       "(torch.Size([1, 50, 784]), torch.Size([1, 50]))"
      ]
     },
     "execution_count": 111,
     "metadata": {},
     "output_type": "execute_result"
    }
   ],
   "source": [
    "xb,yb = next(iter(train_dl))\n",
    "xb.shape,yb.shape"
   ]
  },
  {
   "cell_type": "markdown",
   "id": "7d5debba-9621-434e-966b-5a5993b4927c",
   "metadata": {
    "tags": []
   },
   "source": [
    "## Validation \n",
    "\n",
    "Now we want to test the data on the validation set, rather than the test set, so we van actually know how accurate our model is.\n",
    "\n",
    "\n",
    "\n",
    "You always should also have a validation set, in order to identify if you are overfitting.\n",
    "\n",
    "We will calculate and print the validation loss at the end of each epoch.\n",
    "\n",
    "(Note that we always call model.train() before training, and model.eval() before inference, because these are used by layers such as nn.BatchNorm2d and nn.Dropout to ensure appropriate behaviour for these different phases.)\n"
   ]
  },
  {
   "cell_type": "code",
   "execution_count": 112,
   "id": "cd84a709-d6d7-4a23-968f-d5d6e6586d75",
   "metadata": {},
   "outputs": [],
   "source": [
    "def fit(epochs, model, loss_func, opt, train_dl, valid_dl):\n",
    "    for epoch in range(epochs):\n",
    "        model.train()\n",
    "        for xb,yb in train_dl:\n",
    "            loss = loss_func(model(xb), yb)\n",
    "            loss.backward()\n",
    "            opt.step()\n",
    "            opt.zero_grad()\n",
    "\n",
    "        model.eval()\n",
    "        with torch.no_grad():\n",
    "            tot_loss,tot_acc,count = 0.,0.,0\n",
    "            for xb,yb in valid_dl:\n",
    "                pred = model(xb)\n",
    "                n = len(xb)\n",
    "                count += n\n",
    "                tot_loss += loss_func(pred,yb).item()*n\n",
    "                tot_acc  += accuracy (pred,yb).item()*n\n",
    "        print(epoch, tot_loss/count, tot_acc/count)\n",
    "    return tot_loss/count, tot_acc/count"
   ]
  },
  {
   "cell_type": "code",
   "execution_count": 113,
   "id": "d419a5a4-0767-4143-b837-8b0a02678f7d",
   "metadata": {},
   "outputs": [],
   "source": [
    "# Our simplified get_dls function, we can double the batch size for the validation set as we don't calculate the gradients on those\n",
    "\n",
    "def get_dls(train_ds, valid_ds, bs, **kwargs):\n",
    "    return (DataLoader(train_ds, batch_size=bs, shuffle=True, **kwargs),\n",
    "            DataLoader(valid_ds, batch_size=bs*2, **kwargs))"
   ]
  },
  {
   "cell_type": "code",
   "execution_count": 114,
   "id": "b69456c6-6e72-45ad-a91b-eb1d6a711c15",
   "metadata": {},
   "outputs": [],
   "source": [
    "train_dl,valid_dl = get_dls(train_ds, valid_ds, bs)\n",
    "model,opt = get_model()"
   ]
  },
  {
   "cell_type": "code",
   "execution_count": 115,
   "id": "204d871c-503d-4589-9226-390aed0e8e8f",
   "metadata": {},
   "outputs": [
    {
     "name": "stdout",
     "output_type": "stream",
     "text": [
      "0 0.14236384611576797 0.958100004196167\n",
      "1 0.12564025789499284 0.9632000041007995\n",
      "2 0.1306914868950844 0.9645000052452087\n",
      "3 0.10988455526065082 0.9670000064373017\n",
      "4 0.11636362857650966 0.9678000068664551\n",
      "CPU times: user 25 s, sys: 33.7 s, total: 58.7 s\n",
      "Wall time: 7.33 s\n"
     ]
    }
   ],
   "source": [
    "%time loss,acc = fit(5, model, loss_func, opt, train_dl, valid_dl)"
   ]
  },
  {
   "cell_type": "code",
   "execution_count": null,
   "id": "d88b221a-9ba4-43d9-a4c9-114b61c04808",
   "metadata": {},
   "outputs": [],
   "source": []
  }
 ],
 "metadata": {
  "kernelspec": {
   "display_name": "Python 3 (ipykernel)",
   "language": "python",
   "name": "python3"
  },
  "language_info": {
   "codemirror_mode": {
    "name": "ipython",
    "version": 3
   },
   "file_extension": ".py",
   "mimetype": "text/x-python",
   "name": "python",
   "nbconvert_exporter": "python",
   "pygments_lexer": "ipython3",
   "version": "3.10.10"
  },
  "toc-showcode": false,
  "toc-showtags": true
 },
 "nbformat": 4,
 "nbformat_minor": 5
}
