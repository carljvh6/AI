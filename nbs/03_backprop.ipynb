{
 "cells": [
  {
   "cell_type": "markdown",
   "id": "889bb8df-7271-48dc-be70-1d764cadd669",
   "metadata": {},
   "source": [
    "# Forward and backward passess\n",
    "using gradients in backward propagationn to update weights on a tensor"
   ]
  },
  {
   "cell_type": "markdown",
   "id": "350877f1-872b-4460-af68-e9d9a7d4e772",
   "metadata": {
    "jp-MarkdownHeadingCollapsed": true,
    "tags": []
   },
   "source": [
    "## Setup and getting the data"
   ]
  },
  {
   "cell_type": "code",
   "execution_count": 6,
   "id": "14c27a6f-79a7-42e0-a3b9-7337495f693d",
   "metadata": {},
   "outputs": [],
   "source": [
    "# Downloading the MNIST dataset\n",
    "\n",
    "MNIST_URL='https://github.com/mnielsen/neural-networks-and-deep-learning/blob/master/data/mnist.pkl.gz?raw=true'\n",
    "path_data = Path('data')\n",
    "path_data.mkdir(exist_ok=True)\n",
    "path_gz = path_data/'mnist.pkl.gz'\n",
    "\n",
    "from urllib.request import urlretrieve\n",
    "if not path_gz.exists(): urlretrieve(MNIST_URL, path_gz)"
   ]
  },
  {
   "cell_type": "code",
   "execution_count": 8,
   "id": "b1963d8e-76b1-4494-b4d7-af3da4081d62",
   "metadata": {},
   "outputs": [],
   "source": [
    "# Boilerplate code to load all the relevant libraries and put the data into tensors\n",
    "\n",
    "import pickle,gzip,math,os,time,shutil,torch,matplotlib as mpl, numpy as np\n",
    "from pathlib import Path\n",
    "from torch import tensor\n",
    "from fastcore.test import test_close\n",
    "torch.manual_seed(42)\n",
    "\n",
    "mpl.rcParams['image.cmap'] = 'gray'\n",
    "torch.set_printoptions(precision=2, linewidth=125, sci_mode=False)\n",
    "np.set_printoptions(precision=2, linewidth=125)\n",
    "\n",
    "MNIST_URL='https://github.com/mnielsen/neural-networks-and-deep-learning/blob/master/data/mnist.pkl.gz?raw=true'\n",
    "path_data = Path('data')\n",
    "path_data.mkdir(exist_ok=True)\n",
    "path_gz = path_data/'mnist.pkl.gz'\n",
    "with gzip.open(path_gz, 'rb') as f: ((x_train, y_train), (x_valid, y_valid), _) = pickle.load(f, encoding='latin-1')\n",
    "x_train, y_train, x_valid, y_valid = map(tensor, [x_train, y_train, x_valid, y_valid])"
   ]
  },
  {
   "cell_type": "markdown",
   "id": "97d5831f-d719-48e0-bbde-d4ce5c451667",
   "metadata": {
    "tags": []
   },
   "source": [
    "## The basic architecture\n",
    "\n",
    "Using SGD, not cross-entropy and then evaluating the results using MSE. It is a hacky way as proof of concept"
   ]
  },
  {
   "cell_type": "code",
   "execution_count": 12,
   "id": "4f52e535-4449-4933-8735-dadc3b1a0eae",
   "metadata": {},
   "outputs": [
    {
     "data": {
      "text/plain": [
       "(50000, 784, tensor(10))"
      ]
     },
     "execution_count": 12,
     "metadata": {},
     "output_type": "execute_result"
    }
   ],
   "source": [
    "n,m = x_train.shape\n",
    "c = y_train.max()+1\n",
    "n, m, c"
   ]
  },
  {
   "cell_type": "code",
   "execution_count": 13,
   "id": "f27fd1f5-a3af-47dc-b511-fba05d670013",
   "metadata": {},
   "outputs": [],
   "source": [
    "# number of hidden layers (arbitrarily chosen)\n",
    "\n",
    "nh = 50"
   ]
  },
  {
   "cell_type": "code",
   "execution_count": 14,
   "id": "af318355-62c7-4235-9879-681714212cc5",
   "metadata": {},
   "outputs": [],
   "source": [
    "# Initialise all the weights and biases on our new basic neural network\n",
    "\n",
    "w1 = torch.randn(m, nh)\n",
    "b1 = torch.zeros(nh)\n",
    "w2 = torch.randn(nh, 1)\n",
    "b2 = torch.zeros(1)"
   ]
  },
  {
   "cell_type": "code",
   "execution_count": 17,
   "id": "673135ff-c37a-421a-8213-a1e514c665e8",
   "metadata": {},
   "outputs": [],
   "source": [
    "def lin(x, w, b): return x@w + b"
   ]
  },
  {
   "cell_type": "code",
   "execution_count": 18,
   "id": "3dbebb25-9b30-4e99-bf8c-ba60bc84f96e",
   "metadata": {},
   "outputs": [
    {
     "data": {
      "text/plain": [
       "torch.Size([10000, 50])"
      ]
     },
     "execution_count": 18,
     "metadata": {},
     "output_type": "execute_result"
    }
   ],
   "source": [
    "t = lin(x_valid, w1, b1)\n",
    "t.shape"
   ]
  },
  {
   "cell_type": "code",
   "execution_count": 21,
   "id": "c2522534-b302-4690-8a88-d91e04139d7e",
   "metadata": {},
   "outputs": [],
   "source": [
    "# Relu function clamping, so changing all values less than zero to zero\n",
    "\n",
    "def relu(x): return x.clamp_min(0.)"
   ]
  },
  {
   "cell_type": "code",
   "execution_count": 22,
   "id": "2bebe839-4366-4fca-86fb-2124a7a164a3",
   "metadata": {},
   "outputs": [
    {
     "data": {
      "text/plain": [
       "tensor([[ 0.00, 11.87,  0.00,  ...,  5.48,  2.14, 15.30],\n",
       "        [ 5.38, 10.21,  0.00,  ...,  0.88,  0.08, 20.23],\n",
       "        [ 3.31,  0.12,  3.10,  ..., 16.89,  0.00, 24.74],\n",
       "        ...,\n",
       "        [ 4.01, 10.35,  0.00,  ...,  0.23,  0.00, 18.28],\n",
       "        [10.62,  0.00, 10.72,  ...,  0.00,  0.00, 18.23],\n",
       "        [ 2.84,  0.00,  1.43,  ...,  0.00,  5.75,  2.12]])"
      ]
     },
     "execution_count": 22,
     "metadata": {},
     "output_type": "execute_result"
    }
   ],
   "source": [
    "t = relu(t)\n",
    "t"
   ]
  },
  {
   "cell_type": "code",
   "execution_count": 23,
   "id": "79297032-855e-4863-bbd0-7957cc1fa0a6",
   "metadata": {},
   "outputs": [],
   "source": [
    "def model(xb):\n",
    "    l1 = lin(xb, w1, b1)\n",
    "    l2 = relu(l1)\n",
    "    return lin(l2, w2, b2)\n"
   ]
  },
  {
   "cell_type": "code",
   "execution_count": 25,
   "id": "f89c28ac-e2e8-4985-9fcb-3e75a64a9e79",
   "metadata": {},
   "outputs": [
    {
     "data": {
      "text/plain": [
       "torch.Size([10000, 1])"
      ]
     },
     "execution_count": 25,
     "metadata": {},
     "output_type": "execute_result"
    }
   ],
   "source": [
    "res = model(x_valid)\n",
    "res.shape"
   ]
  },
  {
   "cell_type": "code",
   "execution_count": 26,
   "id": "b5ebd962-2bc2-4689-8c0e-f71636f4d6a6",
   "metadata": {},
   "outputs": [
    {
     "data": {
      "text/plain": [
       "tensor([[  25.75],\n",
       "        [ -13.06],\n",
       "        [-114.79],\n",
       "        ...,\n",
       "        [ -67.44],\n",
       "        [ -74.48],\n",
       "        [ -60.19]])"
      ]
     },
     "execution_count": 26,
     "metadata": {},
     "output_type": "execute_result"
    }
   ],
   "source": [
    "res"
   ]
  },
  {
   "cell_type": "markdown",
   "id": "3ddffbb7-c1ae-4a48-aaa5-84d6dd205788",
   "metadata": {
    "tags": []
   },
   "source": [
    "# MSE, defining a loss function"
   ]
  },
  {
   "cell_type": "code",
   "execution_count": 27,
   "id": "60f364e3-0c9b-4d29-a41d-bb34bd2f46d0",
   "metadata": {},
   "outputs": [
    {
     "data": {
      "text/plain": [
       "(torch.Size([10000]), torch.Size([10000, 1]))"
      ]
     },
     "execution_count": 27,
     "metadata": {},
     "output_type": "execute_result"
    }
   ],
   "source": [
    "y_valid.shape, res.shape"
   ]
  },
  {
   "cell_type": "code",
   "execution_count": 28,
   "id": "61e8bcd7-c863-4ffa-a558-a258055f24cf",
   "metadata": {},
   "outputs": [
    {
     "data": {
      "text/plain": [
       "torch.Size([10000])"
      ]
     },
     "execution_count": 28,
     "metadata": {},
     "output_type": "execute_result"
    }
   ],
   "source": [
    "# To subtract these from each other we need to add the index collumn, or use the squeeze method to remove the trailing unit vector\n",
    "res.squeeze().shape"
   ]
  },
  {
   "cell_type": "code",
   "execution_count": 34,
   "id": "0cc6f3a0-ba2e-4412-9ea8-d4925609ae0c",
   "metadata": {},
   "outputs": [
    {
     "data": {
      "text/plain": [
       "torch.Size([50000, 1])"
      ]
     },
     "execution_count": 34,
     "metadata": {},
     "output_type": "execute_result"
    }
   ],
   "source": [
    "# Turn targets of training and validation sets into floats as we are using MSE\n",
    "y_train,y_valid = y_train.float(),y_valid.float()\n",
    "\n",
    "# Make our first set of predictions using our model\n",
    "preds = model(x_train)\n",
    "preds.shape"
   ]
  },
  {
   "cell_type": "code",
   "execution_count": 35,
   "id": "1a74532a-54ed-42c2-93e8-6ef39241a3a5",
   "metadata": {},
   "outputs": [],
   "source": [
    "def mse(output, targ): return (output[:,0]-targ).pow(2).mean()"
   ]
  },
  {
   "cell_type": "code",
   "execution_count": 37,
   "id": "d1befbe2-a65a-434b-9659-dce835e1342b",
   "metadata": {},
   "outputs": [
    {
     "data": {
      "text/plain": [
       "tensor(4308.76)"
      ]
     },
     "execution_count": 37,
     "metadata": {},
     "output_type": "execute_result"
    }
   ],
   "source": [
    "mse(preds, y_train)"
   ]
  },
  {
   "cell_type": "markdown",
   "id": "e05e552b-b585-4dff-b28c-4f656c5b18f4",
   "metadata": {},
   "source": [
    "## Gradients and backward pass"
   ]
  },
  {
   "cell_type": "markdown",
   "id": "734a4e17-a4d6-459f-bba8-f3e05e63a471",
   "metadata": {},
   "source": [
    "To do here:\n",
    "- figure out what all the individual lines of code do and why\n",
    "- Experiment with the python debugger \n",
    "import pdb; pdb.set_trace() is the code that places a breakpoint. With this the code stops running and you can use various commands to assess the states of the various variables at that point"
   ]
  },
  {
   "cell_type": "code",
   "execution_count": null,
   "id": "b9522745-e340-4377-be78-9d045c8146a3",
   "metadata": {},
   "outputs": [],
   "source": [
    "def lin_grad(inp, out, w, b):\n",
    "    inp.g = out.g @ w.t()\n",
    "#     Note that the t() method transposes the tensor\n",
    "    w.g = >"
   ]
  },
  {
   "cell_type": "code",
   "execution_count": null,
   "id": "4e158912-2de5-4657-a7e5-7ef52629d586",
   "metadata": {},
   "outputs": [],
   "source": [
    "def forward_and_backward(inp, target):\n",
    "    l1 = lin(xb, w1, b1)\n",
    "    l2 = relu(l1)\n",
    "    out = lin(l2, w2, b2)\n",
    "    diff = out[:,0] - target\n",
    "    loss = diff.pow(2).mean() "
   ]
  }
 ],
 "metadata": {
  "kernelspec": {
   "display_name": "Python 3 (ipykernel)",
   "language": "python",
   "name": "python3"
  },
  "language_info": {
   "codemirror_mode": {
    "name": "ipython",
    "version": 3
   },
   "file_extension": ".py",
   "mimetype": "text/x-python",
   "name": "python",
   "nbconvert_exporter": "python",
   "pygments_lexer": "ipython3",
   "version": "3.9.13"
  }
 },
 "nbformat": 4,
 "nbformat_minor": 5
}
